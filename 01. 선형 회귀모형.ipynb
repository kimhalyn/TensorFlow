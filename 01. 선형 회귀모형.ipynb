{
 "cells": [
  {
   "cell_type": "code",
   "execution_count": 18,
   "id": "8ad99e13",
   "metadata": {},
   "outputs": [],
   "source": [
    "import tensorflow as tf\n",
    "import numpy as np"
   ]
  },
  {
   "cell_type": "code",
   "execution_count": 2,
   "id": "dbc61326",
   "metadata": {},
   "outputs": [],
   "source": [
    "x_train = [65, 50, 55, 65, 55, 70, 65, 70]\n",
    "y_train = [85, 74, 76, 90, 85, 87, 94, 98]"
   ]
  },
  {
   "cell_type": "code",
   "execution_count": 4,
   "id": "5a7c0483",
   "metadata": {},
   "outputs": [],
   "source": [
    "# 표준 정규분포를 따르는 랜덤한 값을 초기값으로 지정\n",
    "# ([1]) 값이 하나인 array를 의미\n",
    "w = tf.Variable(tf.random.normal([1]), name = 'weight') # 가중치\n",
    "b = tf.Variable(tf.random.normal([1]), name = 'bias') # y절편"
   ]
  },
  {
   "cell_type": "code",
   "execution_count": 5,
   "id": "dc99da40",
   "metadata": {},
   "outputs": [],
   "source": [
    "# Linear model\n",
    "hypothesis = x_train * w + b"
   ]
  },
  {
   "cell_type": "code",
   "execution_count": 7,
   "id": "e97289f6",
   "metadata": {},
   "outputs": [],
   "source": [
    "# cosst / loss function\n",
    "# tf.reduce_mean 평균값 계산\n",
    "cost = tf.reduce_mean(tf.square(hypothesis - y_train))"
   ]
  },
  {
   "cell_type": "code",
   "execution_count": 11,
   "id": "349ea0e3",
   "metadata": {},
   "outputs": [],
   "source": [
    "# Minimize\n",
    "# tf.keras.optimizers.SGD 경사하강법\n",
    "sgd = tf.keras.optimizers.SGD(learning_rate = 0.0002)"
   ]
  },
  {
   "cell_type": "code",
   "execution_count": 22,
   "id": "88a7250d",
   "metadata": {},
   "outputs": [],
   "source": [
    "# tf.keras.Sequenital을 이용해 빈 모형 만들기\n",
    "# 네트워크 형성\n",
    "model = tf.keras.Sequential()"
   ]
  },
  {
   "cell_type": "code",
   "execution_count": 23,
   "id": "3160993c",
   "metadata": {},
   "outputs": [],
   "source": [
    "# 신경망 형성\n",
    "# model.add(함수) 모델 속성 설정\n",
    "# tf.keras.layers.Dense 신경망 형성 모듈, input과 output 의 중간다리 역할\n",
    "# Dense(units= 출력뉴런 수, input_dim= 입력층의 뉴런수)\n",
    "model.add(tf.keras.layers.Dense(1, input_dim = 1))"
   ]
  },
  {
   "cell_type": "code",
   "execution_count": 24,
   "id": "c60b9b89",
   "metadata": {},
   "outputs": [],
   "source": [
    "# 학습 설정\n",
    "model.compile(loss='mean_squared_error',optimizer=sgd)"
   ]
  },
  {
   "cell_type": "code",
   "execution_count": null,
   "id": "6377ad22",
   "metadata": {},
   "outputs": [],
   "source": [
    "# 모델 학습\n",
    "# model.fit(x, y, epochs=학습횟수, batch_size= 가중치 갱신)\n",
    "model.fit(x_train,y_train,epochs=1000)"
   ]
  },
  {
   "cell_type": "code",
   "execution_count": 20,
   "id": "1767c9cb",
   "metadata": {},
   "outputs": [
    {
     "name": "stdout",
     "output_type": "stream",
     "text": [
      "[[7.115147]]\n"
     ]
    }
   ],
   "source": [
    "# 예측값\n",
    "print(model.predict(np.array([5])))"
   ]
  }
 ],
 "metadata": {
  "kernelspec": {
   "display_name": "Python 3",
   "language": "python",
   "name": "python3"
  },
  "language_info": {
   "codemirror_mode": {
    "name": "ipython",
    "version": 3
   },
   "file_extension": ".py",
   "mimetype": "text/x-python",
   "name": "python",
   "nbconvert_exporter": "python",
   "pygments_lexer": "ipython3",
   "version": "3.7.11"
  }
 },
 "nbformat": 4,
 "nbformat_minor": 5
}
